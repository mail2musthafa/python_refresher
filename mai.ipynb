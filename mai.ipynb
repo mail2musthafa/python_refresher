{
 "cells": [
  {
   "cell_type": "code",
   "execution_count": null,
   "id": "f20fb225",
   "metadata": {},
   "outputs": [
    {
     "name": "stdout",
     "output_type": "stream",
     "text": [
      "welcome to the world of python\n"
     ]
    }
   ],
   "source": [
    "print(\"welco\"me to the world of python\")\n"
   ]
  },
  {
   "cell_type": "code",
   "execution_count": 5,
   "id": "04319528",
   "metadata": {},
   "outputs": [
    {
     "name": "stdout",
     "output_type": "stream",
     "text": [
      "[1, 2, 3, 4, 5]\n"
     ]
    },
    {
     "data": {
      "text/plain": [
       "[3, 4]"
      ]
     },
     "execution_count": 5,
     "metadata": {},
     "output_type": "execute_result"
    }
   ],
   "source": [
    "#list\n",
    "mylist = [1,2,3,4,5]\n",
    "print(mylist)\n",
    "\n",
    "mylist[2:4]"
   ]
  },
  {
   "cell_type": "code",
   "execution_count": 6,
   "id": "4f837c7b",
   "metadata": {},
   "outputs": [
    {
     "data": {
      "text/plain": [
       "[1, 2, 3]"
      ]
     },
     "execution_count": 6,
     "metadata": {},
     "output_type": "execute_result"
    }
   ],
   "source": [
    "mylist[:3]"
   ]
  },
  {
   "cell_type": "code",
   "execution_count": 8,
   "id": "514a21fe",
   "metadata": {},
   "outputs": [
    {
     "name": "stdout",
     "output_type": "stream",
     "text": [
      "None\n"
     ]
    }
   ],
   "source": [
    "print(mylist.reverse())"
   ]
  },
  {
   "cell_type": "code",
   "execution_count": 10,
   "id": "59e1e070",
   "metadata": {},
   "outputs": [
    {
     "data": {
      "text/plain": [
       "<function list.reverse()>"
      ]
     },
     "execution_count": 10,
     "metadata": {},
     "output_type": "execute_result"
    }
   ],
   "source": [
    "mylist.reverse"
   ]
  },
  {
   "cell_type": "code",
   "execution_count": 11,
   "id": "bbac0ea0",
   "metadata": {},
   "outputs": [
    {
     "data": {
      "text/plain": [
       "[1, 2, 3, 4, 5]"
      ]
     },
     "execution_count": 11,
     "metadata": {},
     "output_type": "execute_result"
    }
   ],
   "source": [
    "mylist"
   ]
  },
  {
   "cell_type": "code",
   "execution_count": 12,
   "id": "4d23b960",
   "metadata": {},
   "outputs": [],
   "source": [
    "commond = \"welcome to the world of python\""
   ]
  },
  {
   "cell_type": "code",
   "execution_count": 14,
   "id": "71fbfadb",
   "metadata": {},
   "outputs": [
    {
     "data": {
      "text/plain": [
       "True"
      ]
     },
     "execution_count": 14,
     "metadata": {},
     "output_type": "execute_result"
    }
   ],
   "source": [
    "commond.startswith(\"w\")"
   ]
  },
  {
   "cell_type": "code",
   "execution_count": null,
   "id": "ff786367",
   "metadata": {},
   "outputs": [
    {
     "name": "stdout",
     "output_type": "stream",
     "text": [
      "{1, 2, 3, 4, 5}\n",
      "<class 'set'>\n"
     ]
    }
   ],
   "source": [
    "s = {1,2,3,4,5,5}\n",
    "print(s)\n",
    "print(type(s))"
   ]
  },
  {
   "cell_type": "code",
   "execution_count": 18,
   "id": "16632e41",
   "metadata": {},
   "outputs": [
    {
     "name": "stdout",
     "output_type": "stream",
     "text": [
      "TRUE\n"
     ]
    }
   ],
   "source": [
    "a = 10\n",
    "if a>=2:\n",
    "    print(\"TRUE\")\n",
    "    "
   ]
  },
  {
   "cell_type": "code",
   "execution_count": 21,
   "id": "b2f7e2e0",
   "metadata": {},
   "outputs": [],
   "source": [
    "if(a%2!=0):\n",
    "    print(\"true\")"
   ]
  },
  {
   "cell_type": "code",
   "execution_count": null,
   "id": "dd8774b9",
   "metadata": {},
   "outputs": [
    {
     "ename": "SyntaxError",
     "evalue": "cannot assign to expression here. Maybe you meant '==' instead of '='? (2685038349.py, line 1)",
     "output_type": "error",
     "traceback": [
      "  \u001b[36mCell\u001b[39m\u001b[36m \u001b[39m\u001b[32mIn[22]\u001b[39m\u001b[32m, line 1\u001b[39m\n\u001b[31m    \u001b[39m\u001b[31mif  a//3 =1:\u001b[39m\n        ^\n\u001b[31mSyntaxError\u001b[39m\u001b[31m:\u001b[39m cannot assign to expression here. Maybe you meant '==' instead of '='?\n"
     ]
    }
   ],
   "source": [
    "\n",
    "\n"
   ]
  },
  {
   "cell_type": "code",
   "execution_count": 1,
   "id": "78b6df07",
   "metadata": {},
   "outputs": [
    {
     "name": "stdout",
     "output_type": "stream",
     "text": [
      "3\n"
     ]
    }
   ],
   "source": [
    "def func(arr,n,idx):\n",
    "    if idx+1>n or idx<0:\n",
    "        return -1\n",
    "    return arr[idx]\n",
    "arr = [1,2,3,4,5]\n",
    "n = len(arr)\n",
    "idx = 2\n",
    "print(func(arr,n,idx))\n",
    "\n",
    "    "
   ]
  },
  {
   "cell_type": "code",
   "execution_count": 2,
   "id": "0e70f74a",
   "metadata": {},
   "outputs": [
    {
     "name": "stdout",
     "output_type": "stream",
     "text": [
      "3\n"
     ]
    }
   ],
   "source": [
    "print(func(arr,n,idx))"
   ]
  },
  {
   "cell_type": "code",
   "execution_count": 3,
   "id": "6caecfec",
   "metadata": {},
   "outputs": [
    {
     "data": {
      "text/plain": [
       "[1, 2, 3, 4, 5]"
      ]
     },
     "execution_count": 3,
     "metadata": {},
     "output_type": "execute_result"
    }
   ],
   "source": [
    "arr"
   ]
  },
  {
   "cell_type": "code",
   "execution_count": 4,
   "id": "582fb6a0",
   "metadata": {},
   "outputs": [],
   "source": [
    "arr.append(6)"
   ]
  },
  {
   "cell_type": "code",
   "execution_count": 5,
   "id": "d7ec3d91",
   "metadata": {},
   "outputs": [
    {
     "data": {
      "text/plain": [
       "[1, 2, 3, 4, 5, 6]"
      ]
     },
     "execution_count": 5,
     "metadata": {},
     "output_type": "execute_result"
    }
   ],
   "source": [
    "arr"
   ]
  },
  {
   "cell_type": "code",
   "execution_count": 6,
   "id": "871f5800",
   "metadata": {},
   "outputs": [],
   "source": [
    "arr.insert(2,10)"
   ]
  },
  {
   "cell_type": "code",
   "execution_count": 7,
   "id": "516281ae",
   "metadata": {},
   "outputs": [
    {
     "data": {
      "text/plain": [
       "[1, 2, 10, 3, 4, 5, 6]"
      ]
     },
     "execution_count": 7,
     "metadata": {},
     "output_type": "execute_result"
    }
   ],
   "source": [
    "arr"
   ]
  },
  {
   "cell_type": "code",
   "execution_count": 8,
   "id": "097758c0",
   "metadata": {},
   "outputs": [],
   "source": [
    "arr.append(6)"
   ]
  },
  {
   "cell_type": "code",
   "execution_count": 9,
   "id": "5884b6f4",
   "metadata": {},
   "outputs": [
    {
     "data": {
      "text/plain": [
       "[1, 2, 10, 3, 4, 5, 6, 6]"
      ]
     },
     "execution_count": 9,
     "metadata": {},
     "output_type": "execute_result"
    }
   ],
   "source": [
    "arr"
   ]
  },
  {
   "cell_type": "code",
   "execution_count": 11,
   "id": "4885e971",
   "metadata": {},
   "outputs": [
    {
     "data": {
      "text/plain": [
       "1"
      ]
     },
     "execution_count": 11,
     "metadata": {},
     "output_type": "execute_result"
    }
   ],
   "source": [
    "arr.count(2)"
   ]
  },
  {
   "cell_type": "code",
   "execution_count": 14,
   "id": "11ddfd50",
   "metadata": {},
   "outputs": [
    {
     "data": {
      "text/plain": [
       "37"
      ]
     },
     "execution_count": 14,
     "metadata": {},
     "output_type": "execute_result"
    }
   ],
   "source": [
    "sum(arr)"
   ]
  },
  {
   "cell_type": "code",
   "execution_count": 30,
   "id": "b13a174a",
   "metadata": {},
   "outputs": [
    {
     "ename": "NameError",
     "evalue": "name 'self' is not defined",
     "output_type": "error",
     "traceback": [
      "\u001b[31m---------------------------------------------------------------------------\u001b[39m",
      "\u001b[31mNameError\u001b[39m                                 Traceback (most recent call last)",
      "\u001b[36mCell\u001b[39m\u001b[36m \u001b[39m\u001b[32mIn[30]\u001b[39m\u001b[32m, line 10\u001b[39m\n\u001b[32m      8\u001b[39m a= [\u001b[32m1\u001b[39m,\u001b[32m20\u001b[39m,\u001b[32m3\u001b[39m,\u001b[32m4\u001b[39m,\u001b[32m5\u001b[39m]\n\u001b[32m      9\u001b[39m n = \u001b[38;5;28mlen\u001b[39m(a)\n\u001b[32m---> \u001b[39m\u001b[32m10\u001b[39m median(\u001b[38;5;28;43mself\u001b[39;49m,a,n)         \n",
      "\u001b[31mNameError\u001b[39m: name 'self' is not defined"
     ]
    }
   ],
   "source": [
    "def median(self,a,n):\n",
    "    a.sort()\n",
    "    if n % 2 == 0:\n",
    "        return (a[n // 2] + a[n // 2 - 1]) / 2\n",
    "    else:\n",
    "        return a[n // 2] \n",
    "    \n",
    "a= [1,20,3,4,5]\n",
    "n = len(a)\n",
    "median(self,a,n)         "
   ]
  },
  {
   "cell_type": "code",
   "execution_count": 16,
   "id": "3a738018",
   "metadata": {},
   "outputs": [
    {
     "data": {
      "text/plain": [
       "False"
      ]
     },
     "execution_count": 16,
     "metadata": {},
     "output_type": "execute_result"
    }
   ],
   "source": [
    "2%3==0"
   ]
  },
  {
   "cell_type": "code",
   "execution_count": 32,
   "id": "5c901c46",
   "metadata": {},
   "outputs": [
    {
     "name": "stdout",
     "output_type": "stream",
     "text": [
      "5\n",
      "[1, 20, 3, 4, 5]\n"
     ]
    }
   ],
   "source": [
    "arr = [1,20,3,4,5]\n",
    "n = len(arr)\n",
    "print(n)\n",
    "print(arr)\n",
    "\n"
   ]
  },
  {
   "cell_type": "code",
   "execution_count": 33,
   "id": "ce0125ec",
   "metadata": {},
   "outputs": [
    {
     "data": {
      "text/plain": [
       "3"
      ]
     },
     "execution_count": 33,
     "metadata": {},
     "output_type": "execute_result"
    }
   ],
   "source": [
    "arr[n//2]"
   ]
  },
  {
   "cell_type": "code",
   "execution_count": null,
   "id": "a4b9803e",
   "metadata": {},
   "outputs": [
    {
     "name": "stdout",
     "output_type": "stream",
     "text": [
      "5\n",
      "0\n",
      "False\n",
      "True\n"
     ]
    }
   ],
   "source": [
    "print(10//2)\n",
    "print(10%2)\n",
    "print(n%2==0)\n",
    "print(n%2!=0)\n",
    "#if n is odd return middel element\n",
    "# if n is even return average of middle two numbers\n",
    "\n",
    "\n",
    "\n",
    "\n",
    "\n",
    "\n",
    "\n"
   ]
  },
  {
   "cell_type": "code",
   "execution_count": 44,
   "id": "5d783edf",
   "metadata": {},
   "outputs": [],
   "source": [
    "arr = [1,2,3,4,5,9]\n",
    "\n",
    "med1 = arr[n//2+1]\n",
    "med2   = arr[n//2]"
   ]
  },
  {
   "cell_type": "code",
   "execution_count": 47,
   "id": "742bc41d",
   "metadata": {},
   "outputs": [
    {
     "data": {
      "text/plain": [
       "5.5"
      ]
     },
     "execution_count": 47,
     "metadata": {},
     "output_type": "execute_result"
    }
   ],
   "source": [
    "mddl3 = med1+med2/2\n",
    "mddl3"
   ]
  },
  {
   "cell_type": "code",
   "execution_count": 26,
   "id": "a3779ab3",
   "metadata": {},
   "outputs": [
    {
     "name": "stdout",
     "output_type": "stream",
     "text": [
      "5\n"
     ]
    }
   ],
   "source": [
    "print(n-1//2)"
   ]
  },
  {
   "cell_type": "code",
   "execution_count": null,
   "id": "79f1211a",
   "metadata": {},
   "outputs": [],
   "source": [
    "# 3%2==0 then even else odd \n",
    "# ie n%2!=0 then odd "
   ]
  },
  {
   "cell_type": "code",
   "execution_count": null,
   "id": "3e348348",
   "metadata": {},
   "outputs": [
    {
     "data": {
      "text/plain": [
       "4.5"
      ]
     },
     "execution_count": 63,
     "metadata": {},
     "output_type": "execute_result"
    }
   ],
   "source": [
    "class Solution:\n",
    "    def median_func(self,arr,n):\n",
    "        arr.sort()\n",
    "        #lest see the n is even or odd \n",
    "        #lets check the first n is odd  -->return middle element \n",
    "        if n%2!=0:\n",
    "            return arr[n//2]\n",
    "        #if n is even then return --->average of middle two elements\n",
    "        else:\n",
    "            return ((arr[n//2]+arr[n//2-1]))/2\n",
    "    arr = [1,20,3,4,5,90]\n",
    "n = len(arr)\n",
    "obj = Solution()\n",
    "\n",
    "obj.median_func(arr,n)\n"
   ]
  },
  {
   "cell_type": "code",
   "execution_count": 60,
   "id": "e583c803",
   "metadata": {},
   "outputs": [
    {
     "data": {
      "text/plain": [
       "[1, 3, 4, 5, 20, 90]"
      ]
     },
     "execution_count": 60,
     "metadata": {},
     "output_type": "execute_result"
    }
   ],
   "source": [
    "arr = [1,20,3,4,5,90]\n",
    "arr.sort()\n",
    "\n",
    "arr"
   ]
  },
  {
   "cell_type": "code",
   "execution_count": 61,
   "id": "de976db4",
   "metadata": {},
   "outputs": [
    {
     "data": {
      "text/plain": [
       "4.5"
      ]
     },
     "execution_count": 61,
     "metadata": {},
     "output_type": "execute_result"
    }
   ],
   "source": [
    "3+3/2"
   ]
  },
  {
   "cell_type": "code",
   "execution_count": 68,
   "id": "f0b03f66",
   "metadata": {},
   "outputs": [
    {
     "name": "stdout",
     "output_type": "stream",
     "text": [
      "4.5\n"
     ]
    }
   ],
   "source": [
    "arr[n//2]\n",
    "arr[n//2-1 ]\n",
    "print((arr[n//2]+arr[n//2-1])/2)        "
   ]
  },
  {
   "cell_type": "code",
   "execution_count": 71,
   "id": "2152446f",
   "metadata": {},
   "outputs": [
    {
     "data": {
      "text/plain": [
       "4"
      ]
     },
     "execution_count": 71,
     "metadata": {},
     "output_type": "execute_result"
    }
   ],
   "source": [
    "#find the number number  of elemts is less then then x in given array \n",
    "# --- IGNORE ---\n",
    "class Solution:\n",
    "    def countofnum(self,arr,n,x):\n",
    "        count = 0\n",
    "        for i in range(n):\n",
    "            if arr[i] > x:\n",
    "                count += 1\n",
    "        return count\n",
    "object = Solution()\n",
    "arr = [1,2,3,4,5,90,98]\n",
    "n = len(arr)\n",
    "x = 3\n",
    "object.countofnum(arr,n,x)"
   ]
  },
  {
   "cell_type": "code",
   "execution_count": null,
   "id": "ce349320",
   "metadata": {},
   "outputs": [],
   "source": [
    "arr = [1,2,3,4,5]\n",
    "n = len(arr)\n",
    "x = 3\n",
    "countofnum(self,arr,n,x)"
   ]
  },
  {
   "cell_type": "code",
   "execution_count": null,
   "id": "5a47bf4b",
   "metadata": {},
   "outputs": [],
   "source": [
    "arr = [1,2,3,4,5 ]\n"
   ]
  },
  {
   "cell_type": "code",
   "execution_count": 77,
   "id": "37e4a974",
   "metadata": {},
   "outputs": [
    {
     "data": {
      "text/plain": [
       "98"
      ]
     },
     "execution_count": 77,
     "metadata": {},
     "output_type": "execute_result"
    }
   ],
   "source": [
    "#find the immidiate smallest nuberin list or arrry\n",
    "class Solution:\n",
    "    def immediate_smallest_number(self,arr,n,x):\n",
    "        #arr should not be sorted\n",
    "        arr1 = []\n",
    "        for i in range(n):\n",
    "            if arr[i]<x:\n",
    "                arr1.append(arr[i])\n",
    "        if len(arr1)==0:\n",
    "            return -1\n",
    "        else:\n",
    "            return max(arr1)\n",
    "object = Solution()\n",
    "arr = [1,2,3,4,5,90,98,100,200, 150]\n",
    "n = len(arr)\n",
    "x = 100\n",
    "object.immediate_smallest_number(arr,n,x)"
   ]
  },
  {
   "cell_type": "code",
   "execution_count": 80,
   "id": "8cd9c028",
   "metadata": {},
   "outputs": [
    {
     "data": {
      "text/plain": [
       "(90, 3)"
      ]
     },
     "execution_count": 80,
     "metadata": {},
     "output_type": "execute_result"
    }
   ],
   "source": [
    "#find the frequency of number and return the max frequency number  and its frequency\n",
    "class Solution:\n",
    "    def max_frequency(self, arr, n):\n",
    "        freq = {}\n",
    "        for i in range(n):\n",
    "            if arr[i] in freq:\n",
    "                freq[arr[i]] += 1\n",
    "            else:\n",
    "                freq[arr[i]] = 1\n",
    "        max_freq = 0\n",
    "        max_freq_num = -1\n",
    "        for key, value in freq.items():\n",
    "            if value > max_freq:\n",
    "                max_freq = value\n",
    "                max_freq_num = key\n",
    "        return max_freq_num, max_freq\n",
    "object = Solution()\n",
    "arr = [1,2,2,3,4,5,90,90,90,98,100,200, 150]\n",
    "n = len(arr)\n",
    "object.max_frequency(arr,n)"
   ]
  },
  {
   "cell_type": "code",
   "execution_count": 81,
   "id": "de82234a",
   "metadata": {},
   "outputs": [
    {
     "data": {
      "text/plain": [
       "3"
      ]
     },
     "execution_count": 81,
     "metadata": {},
     "output_type": "execute_result"
    }
   ],
   "source": [
    "#if min number then return min number \n",
    "5873%10"
   ]
  },
  {
   "cell_type": "code",
   "execution_count": 82,
   "id": "77de3ea3",
   "metadata": {},
   "outputs": [
    {
     "data": {
      "text/plain": [
       "1"
      ]
     },
     "execution_count": 82,
     "metadata": {},
     "output_type": "execute_result"
    }
   ],
   "source": [
    "787%3"
   ]
  },
  {
   "cell_type": "code",
   "execution_count": 83,
   "id": "fb57acab",
   "metadata": {},
   "outputs": [
    {
     "data": {
      "text/plain": [
       "0"
      ]
     },
     "execution_count": 83,
     "metadata": {},
     "output_type": "execute_result"
    }
   ],
   "source": [
    "40%10"
   ]
  },
  {
   "cell_type": "code",
   "execution_count": 84,
   "id": "642d6c07",
   "metadata": {},
   "outputs": [
    {
     "data": {
      "text/plain": [
       "4"
      ]
     },
     "execution_count": 84,
     "metadata": {},
     "output_type": "execute_result"
    }
   ],
   "source": [
    "40//10"
   ]
  },
  {
   "cell_type": "code",
   "execution_count": 85,
   "id": "360c4808",
   "metadata": {},
   "outputs": [
    {
     "data": {
      "text/plain": [
       "876"
      ]
     },
     "execution_count": 85,
     "metadata": {},
     "output_type": "execute_result"
    }
   ],
   "source": [
    "8768//10"
   ]
  },
  {
   "cell_type": "code",
   "execution_count": 86,
   "id": "33cc3b7a",
   "metadata": {},
   "outputs": [
    {
     "data": {
      "text/plain": [
       "87"
      ]
     },
     "execution_count": 86,
     "metadata": {},
     "output_type": "execute_result"
    }
   ],
   "source": [
    "876//10"
   ]
  },
  {
   "cell_type": "code",
   "execution_count": 87,
   "id": "608554f1",
   "metadata": {},
   "outputs": [
    {
     "data": {
      "text/plain": [
       "8"
      ]
     },
     "execution_count": 87,
     "metadata": {},
     "output_type": "execute_result"
    }
   ],
   "source": [
    "87//10"
   ]
  },
  {
   "cell_type": "code",
   "execution_count": 88,
   "id": "1be334a4",
   "metadata": {},
   "outputs": [
    {
     "data": {
      "text/plain": [
       "0.8"
      ]
     },
     "execution_count": 88,
     "metadata": {},
     "output_type": "execute_result"
    }
   ],
   "source": [
    "8/10"
   ]
  },
  {
   "cell_type": "code",
   "execution_count": 89,
   "id": "25ca4c78",
   "metadata": {},
   "outputs": [
    {
     "name": "stdout",
     "output_type": "stream",
     "text": [
      "3\n",
      "7\n",
      "8\n",
      "5\n",
      "min digit is  5\n"
     ]
    }
   ],
   "source": [
    "n = 5873\n",
    "num = n\n",
    "while num>0:\n",
    "    digit = num%10\n",
    "    print(digit)\n",
    "    num = num//10\n",
    "print(\"min digit is \",digit)    "
   ]
  },
  {
   "cell_type": "code",
   "execution_count": null,
   "id": "b3ed0785",
   "metadata": {},
   "outputs": [],
   "source": []
  }
 ],
 "metadata": {
  "kernelspec": {
   "display_name": "Python 3",
   "language": "python",
   "name": "python3"
  },
  "language_info": {
   "codemirror_mode": {
    "name": "ipython",
    "version": 3
   },
   "file_extension": ".py",
   "mimetype": "text/x-python",
   "name": "python",
   "nbconvert_exporter": "python",
   "pygments_lexer": "ipython3",
   "version": "3.13.7"
  }
 },
 "nbformat": 4,
 "nbformat_minor": 5
}
